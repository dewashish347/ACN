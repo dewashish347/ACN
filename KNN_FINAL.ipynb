{
 "cells": [
  {
   "cell_type": "code",
   "execution_count": 1,
   "id": "c85d1099",
   "metadata": {},
   "outputs": [],
   "source": [
    "import pandas as pd\n",
    "from sklearn.model_selection import train_test_split \n",
    "from sklearn import metrics \n",
    "from sklearn.preprocessing import LabelEncoder\n",
    "from matplotlib import pyplot as plt \n",
    "import numpy as np\n",
    "import csv"
   ]
  },
  {
   "cell_type": "code",
   "execution_count": 2,
   "id": "fff2002c",
   "metadata": {},
   "outputs": [],
   "source": [
    "df = pd.read_csv(\"Dataset2.csv\")"
   ]
  },
  {
   "cell_type": "code",
   "execution_count": 3,
   "id": "8a2b207e",
   "metadata": {},
   "outputs": [
    {
     "data": {
      "text/html": [
       "<div>\n",
       "<style scoped>\n",
       "    .dataframe tbody tr th:only-of-type {\n",
       "        vertical-align: middle;\n",
       "    }\n",
       "\n",
       "    .dataframe tbody tr th {\n",
       "        vertical-align: top;\n",
       "    }\n",
       "\n",
       "    .dataframe thead th {\n",
       "        text-align: right;\n",
       "    }\n",
       "</style>\n",
       "<table border=\"1\" class=\"dataframe\">\n",
       "  <thead>\n",
       "    <tr style=\"text-align: right;\">\n",
       "      <th></th>\n",
       "      <th>Packet ID</th>\n",
       "      <th>TIME</th>\n",
       "      <th>Size</th>\n",
       "      <th>eth.src</th>\n",
       "      <th>eth.dst</th>\n",
       "      <th>IP.src</th>\n",
       "      <th>IP.dst</th>\n",
       "      <th>IP.proto</th>\n",
       "      <th>port.src</th>\n",
       "      <th>port.dst</th>\n",
       "      <th>label</th>\n",
       "    </tr>\n",
       "  </thead>\n",
       "  <tbody>\n",
       "    <tr>\n",
       "      <th>0</th>\n",
       "      <td>3</td>\n",
       "      <td>1.474639e+09</td>\n",
       "      <td>156</td>\n",
       "      <td>30:8c:fb:2f:e4:b2</td>\n",
       "      <td>14:cc:20:51:33:ea</td>\n",
       "      <td>192.168.1.106</td>\n",
       "      <td>52.87.241.159</td>\n",
       "      <td>6</td>\n",
       "      <td>46330</td>\n",
       "      <td>443</td>\n",
       "      <td>Dropcam</td>\n",
       "    </tr>\n",
       "    <tr>\n",
       "      <th>1</th>\n",
       "      <td>4</td>\n",
       "      <td>1.474639e+09</td>\n",
       "      <td>66</td>\n",
       "      <td>14:cc:20:51:33:ea</td>\n",
       "      <td>30:8c:fb:2f:e4:b2</td>\n",
       "      <td>52.87.241.159</td>\n",
       "      <td>192.168.1.106</td>\n",
       "      <td>6</td>\n",
       "      <td>443</td>\n",
       "      <td>46330</td>\n",
       "      <td>TPLink Router Bridge LAN (Gateway)</td>\n",
       "    </tr>\n",
       "    <tr>\n",
       "      <th>2</th>\n",
       "      <td>5</td>\n",
       "      <td>1.474639e+09</td>\n",
       "      <td>140</td>\n",
       "      <td>70:5a:0f:e4:9b:c0</td>\n",
       "      <td>14:cc:20:51:33:ea</td>\n",
       "      <td>192.168.1.236</td>\n",
       "      <td>15.72.162.53</td>\n",
       "      <td>6</td>\n",
       "      <td>23596</td>\n",
       "      <td>5223</td>\n",
       "      <td>HP Printer</td>\n",
       "    </tr>\n",
       "    <tr>\n",
       "      <th>3</th>\n",
       "      <td>6</td>\n",
       "      <td>1.474639e+09</td>\n",
       "      <td>66</td>\n",
       "      <td>14:cc:20:51:33:ea</td>\n",
       "      <td>70:5a:0f:e4:9b:c0</td>\n",
       "      <td>15.72.162.53</td>\n",
       "      <td>192.168.1.236</td>\n",
       "      <td>6</td>\n",
       "      <td>5223</td>\n",
       "      <td>23596</td>\n",
       "      <td>TPLink Router Bridge LAN (Gateway)</td>\n",
       "    </tr>\n",
       "    <tr>\n",
       "      <th>4</th>\n",
       "      <td>11</td>\n",
       "      <td>1.474639e+09</td>\n",
       "      <td>156</td>\n",
       "      <td>30:8c:fb:2f:e4:b2</td>\n",
       "      <td>14:cc:20:51:33:ea</td>\n",
       "      <td>192.168.1.106</td>\n",
       "      <td>52.87.241.159</td>\n",
       "      <td>6</td>\n",
       "      <td>46330</td>\n",
       "      <td>443</td>\n",
       "      <td>Dropcam</td>\n",
       "    </tr>\n",
       "  </tbody>\n",
       "</table>\n",
       "</div>"
      ],
      "text/plain": [
       "   Packet ID          TIME  Size            eth.src            eth.dst  \\\n",
       "0          3  1.474639e+09   156  30:8c:fb:2f:e4:b2  14:cc:20:51:33:ea   \n",
       "1          4  1.474639e+09    66  14:cc:20:51:33:ea  30:8c:fb:2f:e4:b2   \n",
       "2          5  1.474639e+09   140  70:5a:0f:e4:9b:c0  14:cc:20:51:33:ea   \n",
       "3          6  1.474639e+09    66  14:cc:20:51:33:ea  70:5a:0f:e4:9b:c0   \n",
       "4         11  1.474639e+09   156  30:8c:fb:2f:e4:b2  14:cc:20:51:33:ea   \n",
       "\n",
       "          IP.src         IP.dst  IP.proto  port.src  port.dst  \\\n",
       "0  192.168.1.106  52.87.241.159         6     46330       443   \n",
       "1  52.87.241.159  192.168.1.106         6       443     46330   \n",
       "2  192.168.1.236   15.72.162.53         6     23596      5223   \n",
       "3   15.72.162.53  192.168.1.236         6      5223     23596   \n",
       "4  192.168.1.106  52.87.241.159         6     46330       443   \n",
       "\n",
       "                                label  \n",
       "0                             Dropcam  \n",
       "1  TPLink Router Bridge LAN (Gateway)  \n",
       "2                          HP Printer  \n",
       "3  TPLink Router Bridge LAN (Gateway)  \n",
       "4                             Dropcam  "
      ]
     },
     "execution_count": 3,
     "metadata": {},
     "output_type": "execute_result"
    }
   ],
   "source": [
    "df.head()"
   ]
  },
  {
   "cell_type": "code",
   "execution_count": 4,
   "id": "1131de46",
   "metadata": {},
   "outputs": [
    {
     "name": "stdout",
     "output_type": "stream",
     "text": [
      "<class 'pandas.core.frame.DataFrame'>\n",
      "RangeIndex: 6756140 entries, 0 to 6756139\n",
      "Data columns (total 11 columns):\n",
      " #   Column     Dtype  \n",
      "---  ------     -----  \n",
      " 0   Packet ID  int64  \n",
      " 1   TIME       float64\n",
      " 2   Size       int64  \n",
      " 3   eth.src    object \n",
      " 4   eth.dst    object \n",
      " 5   IP.src     object \n",
      " 6   IP.dst     object \n",
      " 7   IP.proto   int64  \n",
      " 8   port.src   int64  \n",
      " 9   port.dst   int64  \n",
      " 10  label      object \n",
      "dtypes: float64(1), int64(5), object(5)\n",
      "memory usage: 567.0+ MB\n"
     ]
    }
   ],
   "source": [
    "df.info()"
   ]
  },
  {
   "cell_type": "code",
   "execution_count": 5,
   "id": "09371ed2",
   "metadata": {},
   "outputs": [],
   "source": [
    "df = df.dropna()"
   ]
  },
  {
   "cell_type": "code",
   "execution_count": 6,
   "id": "8bb51512",
   "metadata": {},
   "outputs": [
    {
     "name": "stdout",
     "output_type": "stream",
     "text": [
      "<class 'pandas.core.frame.DataFrame'>\n",
      "Int64Index: 6756132 entries, 0 to 6756139\n",
      "Data columns (total 11 columns):\n",
      " #   Column     Dtype  \n",
      "---  ------     -----  \n",
      " 0   Packet ID  int64  \n",
      " 1   TIME       float64\n",
      " 2   Size       int64  \n",
      " 3   eth.src    object \n",
      " 4   eth.dst    object \n",
      " 5   IP.src     object \n",
      " 6   IP.dst     object \n",
      " 7   IP.proto   int64  \n",
      " 8   port.src   int64  \n",
      " 9   port.dst   int64  \n",
      " 10  label      object \n",
      "dtypes: float64(1), int64(5), object(5)\n",
      "memory usage: 618.5+ MB\n"
     ]
    }
   ],
   "source": [
    "df.info()"
   ]
  },
  {
   "cell_type": "code",
   "execution_count": 7,
   "id": "ed301490",
   "metadata": {},
   "outputs": [
    {
     "data": {
      "text/plain": [
       "443      1637576\n",
       "47940     500538\n",
       "80        416971\n",
       "60757     224772\n",
       "40767     216910\n",
       "          ...   \n",
       "17719          1\n",
       "17718          1\n",
       "17717          1\n",
       "17716          1\n",
       "61415          1\n",
       "Name: port.dst, Length: 65535, dtype: int64"
      ]
     },
     "execution_count": 7,
     "metadata": {},
     "output_type": "execute_result"
    }
   ],
   "source": [
    "df['port.dst'].value_counts()"
   ]
  },
  {
   "cell_type": "code",
   "execution_count": 8,
   "id": "dcae5d08",
   "metadata": {},
   "outputs": [
    {
     "name": "stdout",
     "output_type": "stream",
     "text": [
      "Index(['eth.src', 'eth.dst', 'IP.src', 'IP.dst', 'label'], dtype='object')\n"
     ]
    }
   ],
   "source": [
    "objList = df.select_dtypes(include = \"object\").columns\n",
    "print (objList)"
   ]
  },
  {
   "cell_type": "code",
   "execution_count": 9,
   "id": "62ab76a6",
   "metadata": {},
   "outputs": [
    {
     "name": "stdout",
     "output_type": "stream",
     "text": [
      "<class 'pandas.core.frame.DataFrame'>\n",
      "Int64Index: 6756132 entries, 0 to 6756139\n",
      "Data columns (total 11 columns):\n",
      " #   Column     Dtype  \n",
      "---  ------     -----  \n",
      " 0   Packet ID  int64  \n",
      " 1   TIME       float64\n",
      " 2   Size       int64  \n",
      " 3   eth.src    int32  \n",
      " 4   eth.dst    int32  \n",
      " 5   IP.src     int32  \n",
      " 6   IP.dst     int32  \n",
      " 7   IP.proto   int64  \n",
      " 8   port.src   int64  \n",
      " 9   port.dst   int64  \n",
      " 10  label      int32  \n",
      "dtypes: float64(1), int32(5), int64(5)\n",
      "memory usage: 489.7 MB\n",
      "None\n"
     ]
    }
   ],
   "source": [
    "L = LabelEncoder()\n",
    "for feat in objList:\n",
    "    df[feat] = L.fit_transform(df[feat].astype(str))\n",
    "print (df.info())"
   ]
  },
  {
   "cell_type": "code",
   "execution_count": 10,
   "id": "b96ae175",
   "metadata": {},
   "outputs": [
    {
     "data": {
      "text/plain": [
       "21    2910574\n",
       "5      970569\n",
       "10     417435\n",
       "17     377894\n",
       "0      316410\n",
       "3      291276\n",
       "8      223755\n",
       "2      221522\n",
       "25     196010\n",
       "19     154803\n",
       "13     140143\n",
       "18     120268\n",
       "16     118368\n",
       "24     106880\n",
       "22      36924\n",
       "14      36115\n",
       "9       26128\n",
       "15      24163\n",
       "11      20700\n",
       "27      16489\n",
       "6       12830\n",
       "20      11260\n",
       "1        2485\n",
       "26       1362\n",
       "12       1039\n",
       "7         361\n",
       "23        315\n",
       "4          54\n",
       "Name: label, dtype: int64"
      ]
     },
     "execution_count": 10,
     "metadata": {},
     "output_type": "execute_result"
    }
   ],
   "source": [
    "df['label'].value_counts()\n"
   ]
  },
  {
   "cell_type": "code",
   "execution_count": 11,
   "id": "f3ffbb44",
   "metadata": {},
   "outputs": [],
   "source": [
    "X = df.drop(['label','Packet ID','TIME','IP.proto','IP.src','port.dst'],axis=1)"
   ]
  },
  {
   "cell_type": "code",
   "execution_count": 12,
   "id": "9a77ad68",
   "metadata": {},
   "outputs": [
    {
     "data": {
      "text/html": [
       "<div>\n",
       "<style scoped>\n",
       "    .dataframe tbody tr th:only-of-type {\n",
       "        vertical-align: middle;\n",
       "    }\n",
       "\n",
       "    .dataframe tbody tr th {\n",
       "        vertical-align: top;\n",
       "    }\n",
       "\n",
       "    .dataframe thead th {\n",
       "        text-align: right;\n",
       "    }\n",
       "</style>\n",
       "<table border=\"1\" class=\"dataframe\">\n",
       "  <thead>\n",
       "    <tr style=\"text-align: right;\">\n",
       "      <th></th>\n",
       "      <th>Size</th>\n",
       "      <th>eth.src</th>\n",
       "      <th>eth.dst</th>\n",
       "      <th>IP.dst</th>\n",
       "      <th>port.src</th>\n",
       "    </tr>\n",
       "  </thead>\n",
       "  <tbody>\n",
       "    <tr>\n",
       "      <th>0</th>\n",
       "      <td>156</td>\n",
       "      <td>10</td>\n",
       "      <td>9</td>\n",
       "      <td>1419</td>\n",
       "      <td>46330</td>\n",
       "    </tr>\n",
       "    <tr>\n",
       "      <th>1</th>\n",
       "      <td>66</td>\n",
       "      <td>7</td>\n",
       "      <td>12</td>\n",
       "      <td>683</td>\n",
       "      <td>443</td>\n",
       "    </tr>\n",
       "    <tr>\n",
       "      <th>2</th>\n",
       "      <td>140</td>\n",
       "      <td>14</td>\n",
       "      <td>9</td>\n",
       "      <td>373</td>\n",
       "      <td>23596</td>\n",
       "    </tr>\n",
       "    <tr>\n",
       "      <th>3</th>\n",
       "      <td>66</td>\n",
       "      <td>7</td>\n",
       "      <td>16</td>\n",
       "      <td>701</td>\n",
       "      <td>5223</td>\n",
       "    </tr>\n",
       "    <tr>\n",
       "      <th>4</th>\n",
       "      <td>156</td>\n",
       "      <td>10</td>\n",
       "      <td>9</td>\n",
       "      <td>1419</td>\n",
       "      <td>46330</td>\n",
       "    </tr>\n",
       "  </tbody>\n",
       "</table>\n",
       "</div>"
      ],
      "text/plain": [
       "   Size  eth.src  eth.dst  IP.dst  port.src\n",
       "0   156       10        9    1419     46330\n",
       "1    66        7       12     683       443\n",
       "2   140       14        9     373     23596\n",
       "3    66        7       16     701      5223\n",
       "4   156       10        9    1419     46330"
      ]
     },
     "execution_count": 12,
     "metadata": {},
     "output_type": "execute_result"
    }
   ],
   "source": [
    "X.head()"
   ]
  },
  {
   "cell_type": "code",
   "execution_count": 13,
   "id": "4f9cc13a",
   "metadata": {},
   "outputs": [],
   "source": [
    "Y=df['label']"
   ]
  },
  {
   "cell_type": "code",
   "execution_count": 14,
   "id": "20424f1e",
   "metadata": {},
   "outputs": [
    {
     "data": {
      "text/plain": [
       "0     5\n",
       "1    21\n",
       "2     6\n",
       "3    21\n",
       "4     5\n",
       "Name: label, dtype: int32"
      ]
     },
     "execution_count": 14,
     "metadata": {},
     "output_type": "execute_result"
    }
   ],
   "source": [
    "Y.head()"
   ]
  },
  {
   "cell_type": "code",
   "execution_count": 15,
   "id": "8e6c798d",
   "metadata": {},
   "outputs": [],
   "source": [
    "X_train, X_test, Y_train, Y_test = train_test_split(X, Y, test_size=0.2, random_state=100)"
   ]
  },
  {
   "cell_type": "code",
   "execution_count": 16,
   "id": "a0e6e4f2",
   "metadata": {},
   "outputs": [],
   "source": [
    "from sklearn.preprocessing import StandardScaler"
   ]
  },
  {
   "cell_type": "code",
   "execution_count": 17,
   "id": "f5a82761",
   "metadata": {},
   "outputs": [],
   "source": [
    "scalar = StandardScaler()"
   ]
  },
  {
   "cell_type": "code",
   "execution_count": 18,
   "id": "5adb7f45",
   "metadata": {},
   "outputs": [],
   "source": [
    "X_train = scalar.fit_transform(X_train)\n",
    "X_test = scalar.transform(X_test)"
   ]
  },
  {
   "cell_type": "code",
   "execution_count": 19,
   "id": "5757467d",
   "metadata": {},
   "outputs": [],
   "source": [
    "from sklearn.decomposition import PCA\n",
    "  \n",
    "pca = PCA(n_components = 5)\n",
    "  \n",
    "X_train = pca.fit_transform(X_train)\n",
    "X_test = pca.transform(X_test)"
   ]
  },
  {
   "cell_type": "code",
   "execution_count": null,
   "id": "8ca5cd35",
   "metadata": {},
   "outputs": [],
   "source": [
    "from sklearn.neighbors import KNeighborsClassifier\n",
    "\n",
    "knn = KNeighborsClassifier(n_neighbors=2)\n",
    "  \n",
    "knn.fit(X_train, Y_train)\n",
    "\n",
    "Y_pred=knn.predict(X_test)\n",
    "\n"
   ]
  },
  {
   "cell_type": "code",
   "execution_count": null,
   "id": "d7d39d6a",
   "metadata": {},
   "outputs": [],
   "source": [
    "from sklearn.metrics import confusion_matrix\n"
   ]
  },
  {
   "cell_type": "code",
   "execution_count": null,
   "id": "3d542a1c",
   "metadata": {},
   "outputs": [],
   "source": [
    "Cmat = confusion_matrix(Y_test, Y_pred)"
   ]
  },
  {
   "cell_type": "code",
   "execution_count": null,
   "id": "b5a13341",
   "metadata": {},
   "outputs": [],
   "source": [
    "print(Cmat)"
   ]
  },
  {
   "cell_type": "code",
   "execution_count": null,
   "id": "356bfbce",
   "metadata": {},
   "outputs": [],
   "source": [
    "print(\"ACCURACY OF THE MODEL: \", metrics.accuracy_score(Y_test, Y_pred))"
   ]
  },
  {
   "cell_type": "code",
   "execution_count": null,
   "id": "a1c77f0a",
   "metadata": {},
   "outputs": [],
   "source": [
    "from sklearn.metrics import roc_curve, auc, classification_report\n",
    "print(classification_report(Y_test, Y_pred)) #labels=np.unique(Y_pred)"
   ]
  },
  {
   "cell_type": "code",
   "execution_count": null,
   "id": "1330c7f2",
   "metadata": {},
   "outputs": [],
   "source": [
    "import matplotlib.pyplot as plt\n",
    "import numpy as np\n",
    "from sklearn.datasets import load_digits\n",
    "from sklearn.model_selection import validation_curve\n",
    "\n",
    "\n",
    "parameter_range = np.arange(1, 10, 1)\n",
    "\n",
    "train_score, test_score = validation_curve(KNeighborsClassifier(n_neighbors=2), X, Y,\n",
    "\t\t\t\t\t\t\t\t\tparam_name = \"n_neighbors\",\n",
    "\t\t\t\t\t\t\t\t\tparam_range = parameter_range,\n",
    "\t\t\t\t\t\t\t\t\t\tcv = 5, scoring = \"accuracy\")\n",
    "\n",
    "mean_train_score = np.mean(train_score, axis = 1)\n",
    "std_train_score = np.std(train_score, axis = 1)\n",
    "\n",
    "# Calculating mean and standard deviation of testing score\n",
    "mean_test_score = np.mean(test_score, axis = 1)\n",
    "std_test_score = np.std(test_score, axis = 1)\n",
    "\n",
    "# Plot mean accuracy scores for training and testing scores\n",
    "plt.plot(parameter_range, mean_train_score,\n",
    "\tlabel = \"Training Score\", color = 'b')\n",
    "plt.plot(parameter_range, mean_test_score,\n",
    "label = \"Cross Validation Score\", color = 'g')\n",
    "\n",
    "# Creating the plot\n",
    "plt.title(\"Validation Curve with KNeighbors Classifier\")\n",
    "plt.xlabel(\"Neighbors\")\n",
    "plt.ylabel(\"Accuracy\")\n",
    "plt.tight_layout()\n",
    "plt.legend(loc = 'best')\n",
    "plt.show()"
   ]
  },
  {
   "cell_type": "code",
   "execution_count": null,
   "id": "5bf9bf36",
   "metadata": {},
   "outputs": [],
   "source": []
  }
 ],
 "metadata": {
  "kernelspec": {
   "display_name": "Python 3 (ipykernel)",
   "language": "python",
   "name": "python3"
  },
  "language_info": {
   "codemirror_mode": {
    "name": "ipython",
    "version": 3
   },
   "file_extension": ".py",
   "mimetype": "text/x-python",
   "name": "python",
   "nbconvert_exporter": "python",
   "pygments_lexer": "ipython3",
   "version": "3.10.6"
  }
 },
 "nbformat": 4,
 "nbformat_minor": 5
}
