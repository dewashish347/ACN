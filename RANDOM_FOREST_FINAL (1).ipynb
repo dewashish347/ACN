{
 "cells": [
  {
   "cell_type": "code",
   "execution_count": 1,
   "id": "c85d1099",
   "metadata": {},
   "outputs": [],
   "source": [
    "import pandas as pd \n",
    "from sklearn.model_selection import train_test_split \n",
    "from sklearn import metrics \n",
    "from sklearn.preprocessing import LabelEncoder\n",
    "from matplotlib import pyplot as plt \n",
    "import numpy as np\n",
    "import csv"
   ]
  },
  {
   "cell_type": "code",
   "execution_count": 2,
   "id": "fff2002c",
   "metadata": {},
   "outputs": [],
   "source": [
    "df = pd.read_csv(\"IoT_Devices.csv\")"
   ]
  },
  {
   "cell_type": "code",
   "execution_count": 3,
   "id": "8a2b207e",
   "metadata": {},
   "outputs": [
    {
     "data": {
      "text/html": [
       "<div>\n",
       "<style scoped>\n",
       "    .dataframe tbody tr th:only-of-type {\n",
       "        vertical-align: middle;\n",
       "    }\n",
       "\n",
       "    .dataframe tbody tr th {\n",
       "        vertical-align: top;\n",
       "    }\n",
       "\n",
       "    .dataframe thead th {\n",
       "        text-align: right;\n",
       "    }\n",
       "</style>\n",
       "<table border=\"1\" class=\"dataframe\">\n",
       "  <thead>\n",
       "    <tr style=\"text-align: right;\">\n",
       "      <th></th>\n",
       "      <th>Packet ID</th>\n",
       "      <th>TIME</th>\n",
       "      <th>Size</th>\n",
       "      <th>eth.src</th>\n",
       "      <th>eth.dst</th>\n",
       "      <th>IP.src</th>\n",
       "      <th>IP.dst</th>\n",
       "      <th>IP.proto</th>\n",
       "      <th>port.src</th>\n",
       "      <th>port.dst</th>\n",
       "      <th>label</th>\n",
       "    </tr>\n",
       "  </thead>\n",
       "  <tbody>\n",
       "    <tr>\n",
       "      <th>0</th>\n",
       "      <td>3</td>\n",
       "      <td>1474639202</td>\n",
       "      <td>156</td>\n",
       "      <td>30:8c:fb:2f:e4:b2</td>\n",
       "      <td>14:cc:20:51:33:ea</td>\n",
       "      <td>192.168.1.106</td>\n",
       "      <td>52.87.241.159</td>\n",
       "      <td>6</td>\n",
       "      <td>46330</td>\n",
       "      <td>443</td>\n",
       "      <td>Dropcam</td>\n",
       "    </tr>\n",
       "    <tr>\n",
       "      <th>1</th>\n",
       "      <td>4</td>\n",
       "      <td>1474639203</td>\n",
       "      <td>66</td>\n",
       "      <td>14:cc:20:51:33:ea</td>\n",
       "      <td>30:8c:fb:2f:e4:b2</td>\n",
       "      <td>52.87.241.159</td>\n",
       "      <td>192.168.1.106</td>\n",
       "      <td>6</td>\n",
       "      <td>443</td>\n",
       "      <td>46330</td>\n",
       "      <td>TPLink Router Bridge LAN (Gateway)</td>\n",
       "    </tr>\n",
       "    <tr>\n",
       "      <th>2</th>\n",
       "      <td>5</td>\n",
       "      <td>1474639203</td>\n",
       "      <td>140</td>\n",
       "      <td>70:5a:0f:e4:9b:c0</td>\n",
       "      <td>14:cc:20:51:33:ea</td>\n",
       "      <td>192.168.1.236</td>\n",
       "      <td>15.72.162.53</td>\n",
       "      <td>6</td>\n",
       "      <td>23596</td>\n",
       "      <td>5223</td>\n",
       "      <td>HP Printer</td>\n",
       "    </tr>\n",
       "    <tr>\n",
       "      <th>3</th>\n",
       "      <td>6</td>\n",
       "      <td>1474639203</td>\n",
       "      <td>66</td>\n",
       "      <td>14:cc:20:51:33:ea</td>\n",
       "      <td>70:5a:0f:e4:9b:c0</td>\n",
       "      <td>15.72.162.53</td>\n",
       "      <td>192.168.1.236</td>\n",
       "      <td>6</td>\n",
       "      <td>5223</td>\n",
       "      <td>23596</td>\n",
       "      <td>TPLink Router Bridge LAN (Gateway)</td>\n",
       "    </tr>\n",
       "    <tr>\n",
       "      <th>4</th>\n",
       "      <td>11</td>\n",
       "      <td>1474639203</td>\n",
       "      <td>156</td>\n",
       "      <td>30:8c:fb:2f:e4:b2</td>\n",
       "      <td>14:cc:20:51:33:ea</td>\n",
       "      <td>192.168.1.106</td>\n",
       "      <td>52.87.241.159</td>\n",
       "      <td>6</td>\n",
       "      <td>46330</td>\n",
       "      <td>443</td>\n",
       "      <td>Dropcam</td>\n",
       "    </tr>\n",
       "  </tbody>\n",
       "</table>\n",
       "</div>"
      ],
      "text/plain": [
       "   Packet ID        TIME  Size            eth.src            eth.dst  \\\n",
       "0          3  1474639202   156  30:8c:fb:2f:e4:b2  14:cc:20:51:33:ea   \n",
       "1          4  1474639203    66  14:cc:20:51:33:ea  30:8c:fb:2f:e4:b2   \n",
       "2          5  1474639203   140  70:5a:0f:e4:9b:c0  14:cc:20:51:33:ea   \n",
       "3          6  1474639203    66  14:cc:20:51:33:ea  70:5a:0f:e4:9b:c0   \n",
       "4         11  1474639203   156  30:8c:fb:2f:e4:b2  14:cc:20:51:33:ea   \n",
       "\n",
       "          IP.src         IP.dst  IP.proto  port.src  port.dst  \\\n",
       "0  192.168.1.106  52.87.241.159         6     46330       443   \n",
       "1  52.87.241.159  192.168.1.106         6       443     46330   \n",
       "2  192.168.1.236   15.72.162.53         6     23596      5223   \n",
       "3   15.72.162.53  192.168.1.236         6      5223     23596   \n",
       "4  192.168.1.106  52.87.241.159         6     46330       443   \n",
       "\n",
       "                                label  \n",
       "0                             Dropcam  \n",
       "1  TPLink Router Bridge LAN (Gateway)  \n",
       "2                          HP Printer  \n",
       "3  TPLink Router Bridge LAN (Gateway)  \n",
       "4                             Dropcam  "
      ]
     },
     "execution_count": 3,
     "metadata": {},
     "output_type": "execute_result"
    }
   ],
   "source": [
    "df.head()"
   ]
  },
  {
   "cell_type": "code",
   "execution_count": 4,
   "id": "1131de46",
   "metadata": {},
   "outputs": [
    {
     "name": "stdout",
     "output_type": "stream",
     "text": [
      "<class 'pandas.core.frame.DataFrame'>\n",
      "RangeIndex: 6735440 entries, 0 to 6735439\n",
      "Data columns (total 11 columns):\n",
      " #   Column     Dtype \n",
      "---  ------     ----- \n",
      " 0   Packet ID  int64 \n",
      " 1   TIME       int64 \n",
      " 2   Size       int64 \n",
      " 3   eth.src    object\n",
      " 4   eth.dst    object\n",
      " 5   IP.src     object\n",
      " 6   IP.dst     object\n",
      " 7   IP.proto   int64 \n",
      " 8   port.src   int64 \n",
      " 9   port.dst   int64 \n",
      " 10  label      object\n",
      "dtypes: int64(6), object(5)\n",
      "memory usage: 565.3+ MB\n"
     ]
    }
   ],
   "source": [
    "df.info()"
   ]
  },
  {
   "cell_type": "code",
   "execution_count": 5,
   "id": "09371ed2",
   "metadata": {},
   "outputs": [],
   "source": [
    "df = df.dropna()"
   ]
  },
  {
   "cell_type": "code",
   "execution_count": 6,
   "id": "8bb51512",
   "metadata": {},
   "outputs": [
    {
     "name": "stdout",
     "output_type": "stream",
     "text": [
      "<class 'pandas.core.frame.DataFrame'>\n",
      "Int64Index: 6735432 entries, 0 to 6735439\n",
      "Data columns (total 11 columns):\n",
      " #   Column     Dtype \n",
      "---  ------     ----- \n",
      " 0   Packet ID  int64 \n",
      " 1   TIME       int64 \n",
      " 2   Size       int64 \n",
      " 3   eth.src    object\n",
      " 4   eth.dst    object\n",
      " 5   IP.src     object\n",
      " 6   IP.dst     object\n",
      " 7   IP.proto   int64 \n",
      " 8   port.src   int64 \n",
      " 9   port.dst   int64 \n",
      " 10  label      object\n",
      "dtypes: int64(6), object(5)\n",
      "memory usage: 616.6+ MB\n"
     ]
    }
   ],
   "source": [
    "df.info()"
   ]
  },
  {
   "cell_type": "code",
   "execution_count": 7,
   "id": "ed301490",
   "metadata": {},
   "outputs": [
    {
     "data": {
      "text/plain": [
       "443      1616929\n",
       "47940     500538\n",
       "80        416965\n",
       "60757     224772\n",
       "40767     216910\n",
       "          ...   \n",
       "17719          1\n",
       "17718          1\n",
       "17717          1\n",
       "17716          1\n",
       "61415          1\n",
       "Name: port.dst, Length: 65535, dtype: int64"
      ]
     },
     "execution_count": 7,
     "metadata": {},
     "output_type": "execute_result"
    }
   ],
   "source": [
    "df['port.dst'].value_counts()"
   ]
  },
  {
   "cell_type": "code",
   "execution_count": 8,
   "id": "dcae5d08",
   "metadata": {},
   "outputs": [
    {
     "name": "stdout",
     "output_type": "stream",
     "text": [
      "Index(['eth.src', 'eth.dst', 'IP.src', 'IP.dst', 'label'], dtype='object')\n"
     ]
    }
   ],
   "source": [
    "objList = df.select_dtypes(include = \"object\").columns\n",
    "print (objList)"
   ]
  },
  {
   "cell_type": "code",
   "execution_count": 9,
   "id": "62ab76a6",
   "metadata": {},
   "outputs": [
    {
     "name": "stdout",
     "output_type": "stream",
     "text": [
      "<class 'pandas.core.frame.DataFrame'>\n",
      "Int64Index: 6735432 entries, 0 to 6735439\n",
      "Data columns (total 11 columns):\n",
      " #   Column     Dtype\n",
      "---  ------     -----\n",
      " 0   Packet ID  int64\n",
      " 1   TIME       int64\n",
      " 2   Size       int64\n",
      " 3   eth.src    int32\n",
      " 4   eth.dst    int32\n",
      " 5   IP.src     int32\n",
      " 6   IP.dst     int32\n",
      " 7   IP.proto   int64\n",
      " 8   port.src   int64\n",
      " 9   port.dst   int64\n",
      " 10  label      int32\n",
      "dtypes: int32(5), int64(6)\n",
      "memory usage: 488.2 MB\n",
      "None\n"
     ]
    }
   ],
   "source": [
    "L = LabelEncoder()\n",
    "for feat in objList:\n",
    "    df[feat] = L.fit_transform(df[feat].astype(str))\n",
    "print (df.info())"
   ]
  },
  {
   "cell_type": "code",
   "execution_count": 10,
   "id": "b96ae175",
   "metadata": {},
   "outputs": [
    {
     "data": {
      "text/plain": [
       "20    2910574\n",
       "5      970569\n",
       "10     417435\n",
       "16     377894\n",
       "0      316410\n",
       "3      291276\n",
       "8      223755\n",
       "2      221522\n",
       "24     196010\n",
       "18     154803\n",
       "12     140143\n",
       "17     120268\n",
       "15     118368\n",
       "23     106880\n",
       "21      36924\n",
       "13      36115\n",
       "9       26128\n",
       "14      24163\n",
       "26      16489\n",
       "6       12830\n",
       "19      11260\n",
       "1        2485\n",
       "25       1362\n",
       "11       1039\n",
       "7         361\n",
       "22        315\n",
       "4          54\n",
       "Name: label, dtype: int64"
      ]
     },
     "execution_count": 10,
     "metadata": {},
     "output_type": "execute_result"
    }
   ],
   "source": [
    "df['label'].value_counts()\n"
   ]
  },
  {
   "cell_type": "code",
   "execution_count": 11,
   "id": "f3ffbb44",
   "metadata": {},
   "outputs": [],
   "source": [
    "X = df.drop(['label','Packet ID','TIME','IP.proto','IP.src','port.dst'],axis=1)"
   ]
  },
  {
   "cell_type": "code",
   "execution_count": 12,
   "id": "9a77ad68",
   "metadata": {},
   "outputs": [
    {
     "data": {
      "text/html": [
       "<div>\n",
       "<style scoped>\n",
       "    .dataframe tbody tr th:only-of-type {\n",
       "        vertical-align: middle;\n",
       "    }\n",
       "\n",
       "    .dataframe tbody tr th {\n",
       "        vertical-align: top;\n",
       "    }\n",
       "\n",
       "    .dataframe thead th {\n",
       "        text-align: right;\n",
       "    }\n",
       "</style>\n",
       "<table border=\"1\" class=\"dataframe\">\n",
       "  <thead>\n",
       "    <tr style=\"text-align: right;\">\n",
       "      <th></th>\n",
       "      <th>Size</th>\n",
       "      <th>eth.src</th>\n",
       "      <th>eth.dst</th>\n",
       "      <th>IP.dst</th>\n",
       "      <th>port.src</th>\n",
       "    </tr>\n",
       "  </thead>\n",
       "  <tbody>\n",
       "    <tr>\n",
       "      <th>0</th>\n",
       "      <td>156</td>\n",
       "      <td>9</td>\n",
       "      <td>9</td>\n",
       "      <td>1244</td>\n",
       "      <td>46330</td>\n",
       "    </tr>\n",
       "    <tr>\n",
       "      <th>1</th>\n",
       "      <td>66</td>\n",
       "      <td>6</td>\n",
       "      <td>12</td>\n",
       "      <td>570</td>\n",
       "      <td>443</td>\n",
       "    </tr>\n",
       "    <tr>\n",
       "      <th>2</th>\n",
       "      <td>140</td>\n",
       "      <td>13</td>\n",
       "      <td>9</td>\n",
       "      <td>293</td>\n",
       "      <td>23596</td>\n",
       "    </tr>\n",
       "    <tr>\n",
       "      <th>3</th>\n",
       "      <td>66</td>\n",
       "      <td>6</td>\n",
       "      <td>16</td>\n",
       "      <td>588</td>\n",
       "      <td>5223</td>\n",
       "    </tr>\n",
       "    <tr>\n",
       "      <th>4</th>\n",
       "      <td>156</td>\n",
       "      <td>9</td>\n",
       "      <td>9</td>\n",
       "      <td>1244</td>\n",
       "      <td>46330</td>\n",
       "    </tr>\n",
       "  </tbody>\n",
       "</table>\n",
       "</div>"
      ],
      "text/plain": [
       "   Size  eth.src  eth.dst  IP.dst  port.src\n",
       "0   156        9        9    1244     46330\n",
       "1    66        6       12     570       443\n",
       "2   140       13        9     293     23596\n",
       "3    66        6       16     588      5223\n",
       "4   156        9        9    1244     46330"
      ]
     },
     "execution_count": 12,
     "metadata": {},
     "output_type": "execute_result"
    }
   ],
   "source": [
    "X.head()"
   ]
  },
  {
   "cell_type": "code",
   "execution_count": 13,
   "id": "4f9cc13a",
   "metadata": {},
   "outputs": [],
   "source": [
    "Y=df['label']"
   ]
  },
  {
   "cell_type": "code",
   "execution_count": 14,
   "id": "20424f1e",
   "metadata": {},
   "outputs": [
    {
     "data": {
      "text/plain": [
       "0     5\n",
       "1    20\n",
       "2     6\n",
       "3    20\n",
       "4     5\n",
       "Name: label, dtype: int32"
      ]
     },
     "execution_count": 14,
     "metadata": {},
     "output_type": "execute_result"
    }
   ],
   "source": [
    "Y.head()"
   ]
  },
  {
   "cell_type": "code",
   "execution_count": 15,
   "id": "8e6c798d",
   "metadata": {},
   "outputs": [],
   "source": [
    "X_train, X_test, Y_train, Y_test = train_test_split(X, Y, test_size=0.20, random_state=100)"
   ]
  },
  {
   "cell_type": "code",
   "execution_count": 16,
   "id": "82f14d53",
   "metadata": {},
   "outputs": [],
   "source": [
    "from sklearn.preprocessing import StandardScaler"
   ]
  },
  {
   "cell_type": "code",
   "execution_count": 17,
   "id": "7353fea4",
   "metadata": {},
   "outputs": [],
   "source": [
    "scalar = StandardScaler()\n"
   ]
  },
  {
   "cell_type": "code",
   "execution_count": 18,
   "id": "2dd3b4c0",
   "metadata": {},
   "outputs": [],
   "source": [
    "X_train = scalar.fit_transform(X_train)\n",
    "X_test = scalar.transform(X_test)"
   ]
  },
  {
   "cell_type": "code",
   "execution_count": 19,
   "id": "f0b7b06f",
   "metadata": {},
   "outputs": [],
   "source": [
    "from sklearn.decomposition import PCA\n",
    "  \n",
    "pca = PCA(n_components = 5)\n",
    "  \n",
    "X_train = pca.fit_transform(X_train)\n",
    "X_test = pca.transform(X_test)"
   ]
  },
  {
   "cell_type": "code",
   "execution_count": 20,
   "id": "758842d6",
   "metadata": {},
   "outputs": [],
   "source": [
    "from sklearn.ensemble import RandomForestClassifier"
   ]
  },
  {
   "cell_type": "code",
   "execution_count": 21,
   "id": "8e3df8ae",
   "metadata": {},
   "outputs": [],
   "source": [
    "rf_model = RandomForestClassifier(n_estimators =5).fit(X_train, Y_train)\n",
    "\n"
   ]
  },
  {
   "cell_type": "code",
   "execution_count": 22,
   "id": "5b9d4715",
   "metadata": {},
   "outputs": [],
   "source": [
    "Y_pred = rf_model.predict(X_test)"
   ]
  },
  {
   "cell_type": "code",
   "execution_count": 23,
   "id": "d7d39d6a",
   "metadata": {},
   "outputs": [],
   "source": [
    "from sklearn.metrics import confusion_matrix"
   ]
  },
  {
   "cell_type": "code",
   "execution_count": 24,
   "id": "3d542a1c",
   "metadata": {},
   "outputs": [],
   "source": [
    "Cmat = confusion_matrix(Y_test, Y_pred)"
   ]
  },
  {
   "cell_type": "code",
   "execution_count": 25,
   "id": "b5a13341",
   "metadata": {},
   "outputs": [
    {
     "name": "stdout",
     "output_type": "stream",
     "text": [
      "[[ 58684     39      0      0      0      0      0      0      0      0\n",
      "       0      0      0      0      0      0      0      0      0   4371\n",
      "       0      0      0      0      0      0      0]\n",
      " [    28    454      0      0      0      4      0      0      0      0\n",
      "       0      0      0      0      0      0      0      0      0      0\n",
      "       0      0      0      0      0      0      0]\n",
      " [     0      0  42226     14      0      0      0      0      0      0\n",
      "       0      0      0      0   2037      0      0      0      2      0\n",
      "       0      0      0      0      0      0      0]\n",
      " [     0      0   3473  29699      0      0      0      0      0      0\n",
      "       0      0      0      0  25141      0      0      0      1      0\n",
      "       0      0      0      0      0      0      0]\n",
      " [     0      1      1      0      9      0      0      0      0      0\n",
      "       0      0      3      0      0      0      0      0      0      0\n",
      "       0      0      0      0      0      0      0]\n",
      " [     1  41419      0      0      0 152189      0      0      0      0\n",
      "       0      0      0      0      0      0      0      0      0      0\n",
      "       0    213      0      0      0      0      0]\n",
      " [     0      1      0      0      0      0   2631      0      0      0\n",
      "       0      0      1      0      0      0      0      0      0      0\n",
      "       0      0      0      0      0      0      0]\n",
      " [     0      0      1      0      0      0      0     50      0      0\n",
      "       1      0      0      0      0      0      0      0      0      0\n",
      "       0      0      0      0      0      0      0]\n",
      " [     0      0    313      0      0      0      0      0  35969      0\n",
      "       0      0      0      0      0   6020      0      0      0      0\n",
      "    2517      0      0      0      0      0      0]\n",
      " [     0      0      0      0      0      0      0      0      0   4627\n",
      "     617      0      0      0      0      0      0      0      0      0\n",
      "       0      0      0      0      0      0      0]\n",
      " [    14      0      8      0      0      0      0     14      0   2166\n",
      "   80796      0    478      0      0      0      0      0      0     11\n",
      "       0      0      0      0      0      0      5]\n",
      " [     0      0      0      0      0      7      0      0      0      0\n",
      "       0    200      0      0      0      0      0      0      0      0\n",
      "       8      0      0      0      0      0      0]\n",
      " [     0      0      4      0      0      0      4      0      0      0\n",
      "       0      0  28021      0      0      0      0      0      0      0\n",
      "       0      0      0      0      0      0     12]\n",
      " [     0      0   4184      0      0      0    112      0      0      0\n",
      "       0      0   1201   1425      0      0      0      0      0    230\n",
      "       0      0      0      0      0      0      0]\n",
      " [     0      0      0      0      0      0      0    151      0      0\n",
      "       0      0      0      0   4668      0      0      0      0      0\n",
      "       0      0      0      0      0      0      0]\n",
      " [     0      0      0      0      0      0      0      0     96      0\n",
      "       0      7      0      0      0  23735      0      0      0      0\n",
      "      99      0      0      0      0      0      0]\n",
      " [     0      0      0      0      0      0      0      0      0      0\n",
      "       0      0      0      0      0      6  75481      0      0      0\n",
      "       0      0      0      0    181      0      0]\n",
      " [     0      0      7      0      0      0      0      0      0      0\n",
      "      20      0      0      0      0      0      0  24001      0      0\n",
      "       0      0      0      0      0      0      0]\n",
      " [     0      0      0     10      0      0      0      0      0      0\n",
      "       0      0      0      0      0      0      0      0  30453      0\n",
      "       0      0    270      0      0      0      0]\n",
      " [     2      0      0      0      0      0      2      0      0      0\n",
      "       0      0     22      0      0      0      0      0      0   2239\n",
      "       0      0      0      0      0      0      0]\n",
      " [     0      0      0      0      0      2      0      0      0      0\n",
      "       0      0      0      0      0    315      0      0      0      0\n",
      "  581821      9      0      0      9      0      0]\n",
      " [     0      1      0      0      0    314      0      0      0      0\n",
      "       0      2      0      0      0      3      0      0      0      0\n",
      "       0   7076      0      0      0      0      0]\n",
      " [     0      0      0      0      0      0      0      0      0      0\n",
      "       0      0      0      0      1      0      0      0     13      0\n",
      "       0      0     49      0      0      0      0]\n",
      " [     0      0      0      0      0      0      0      0     10      0\n",
      "       0      0      0      0      0     28      0      0      0      0\n",
      "       0      0      0  21529     22      1      0]\n",
      " [     0      0      0      0      0      0      0      0      0      0\n",
      "       0      0      0      0      0    213   1034      0      0      0\n",
      "       0      0      0      0  37981      0      0]\n",
      " [     0      0      0      0      0      0      0      0      0      0\n",
      "       0      0      0      0      0      0     10      0      0      0\n",
      "       0      0      0    172      0     97      0]\n",
      " [     0      0      3      0      0      0      0      0      0      0\n",
      "    3246      0      0      0      0      0      0      0      0      0\n",
      "       0      0      0      0      0      0     19]]\n"
     ]
    }
   ],
   "source": [
    "print(Cmat)"
   ]
  },
  {
   "cell_type": "code",
   "execution_count": 26,
   "id": "356bfbce",
   "metadata": {},
   "outputs": [
    {
     "name": "stdout",
     "output_type": "stream",
     "text": [
      "ACCURACY OF THE MODEL:  0.9250545807360623\n"
     ]
    }
   ],
   "source": [
    "print(\"ACCURACY OF THE MODEL: \", metrics.accuracy_score(Y_test, Y_pred))"
   ]
  },
  {
   "cell_type": "code",
   "execution_count": 27,
   "id": "ee9cee3f",
   "metadata": {},
   "outputs": [
    {
     "name": "stdout",
     "output_type": "stream",
     "text": [
      "              precision    recall  f1-score   support\n",
      "\n",
      "           0       1.00      0.93      0.96     63094\n",
      "           1       0.01      0.93      0.02       486\n",
      "           2       0.84      0.95      0.89     44279\n",
      "           3       1.00      0.51      0.67     58314\n",
      "           4       1.00      0.64      0.78        14\n",
      "           5       1.00      0.79      0.88    193822\n",
      "           6       0.96      1.00      0.98      2633\n",
      "           7       0.23      0.96      0.37        52\n",
      "           8       1.00      0.80      0.89     44819\n",
      "           9       0.68      0.88      0.77      5244\n",
      "          10       0.95      0.97      0.96     83492\n",
      "          11       0.96      0.93      0.94       215\n",
      "          12       0.94      1.00      0.97     28041\n",
      "          13       1.00      0.20      0.33      7152\n",
      "          14       0.15      0.97      0.25      4819\n",
      "          15       0.78      0.99      0.87     23937\n",
      "          16       0.99      1.00      0.99     75668\n",
      "          17       1.00      1.00      1.00     24028\n",
      "          18       1.00      0.99      1.00     30733\n",
      "          19       0.33      0.99      0.49      2265\n",
      "          20       1.00      1.00      1.00    582156\n",
      "          21       0.97      0.96      0.96      7396\n",
      "          22       0.15      0.78      0.26        63\n",
      "          23       0.99      1.00      0.99     21590\n",
      "          24       0.99      0.97      0.98     39228\n",
      "          25       0.99      0.35      0.51       279\n",
      "          26       0.53      0.01      0.01      3268\n",
      "\n",
      "    accuracy                           0.93   1347087\n",
      "   macro avg       0.79      0.83      0.73   1347087\n",
      "weighted avg       0.98      0.93      0.94   1347087\n",
      "\n"
     ]
    }
   ],
   "source": [
    "from sklearn.metrics import roc_curve, auc, classification_report\n",
    "print(classification_report(Y_test, Y_pred)) #labels=np.unique(Y_pred)"
   ]
  },
  {
   "cell_type": "code",
   "execution_count": 28,
   "id": "902fda51",
   "metadata": {},
   "outputs": [
    {
     "data": {
      "image/png": "[encoded data removed]",
      "text/plain": [
       "<Figure size 640x480 with 1 Axes>"
      ]
     },
     "metadata": {},
     "output_type": "display_data"
    }
   ],
   "source": [
    "import matplotlib.pyplot as plt\n",
    "import numpy as np\n",
    "from sklearn.datasets import load_digits\n",
    "from sklearn.model_selection import validation_curve\n",
    "\n",
    "\n",
    "parameter_range = np.arange(1, 10, 1)\n",
    "\n",
    "train_score, test_score = validation_curve(RandomForestClassifier(n_estimators =5), X, Y,\n",
    "\t\t\t\t\t\t\t\t\tparam_name = \"n_estimators\",\n",
    "\t\t\t\t\t\t\t\t\tparam_range = parameter_range,\n",
    "\t\t\t\t\t\t\t\t\t\tcv = 5, scoring = \"accuracy\")\n",
    "\n",
    "mean_train_score = np.mean(train_score, axis = 1)\n",
    "std_train_score = np.std(train_score, axis = 1)\n",
    "\n",
    "# Calculating mean and standard deviation of testing score\n",
    "mean_test_score = np.mean(test_score, axis = 1)\n",
    "std_test_score = np.std(test_score, axis = 1)\n",
    "\n",
    "# Plot mean accuracy scores for training and testing scores\n",
    "plt.plot(parameter_range, mean_train_score,\n",
    "\tlabel = \"Training Score\", color = 'b')\n",
    "plt.plot(parameter_range, mean_test_score,\n",
    "label = \"Cross Validation Score\", color = 'g')\n",
    "\n",
    "# Creating the plot\n",
    "plt.title(\"Validation Curve with Random Forest Classifier\")\n",
    "plt.xlabel(\"Estimators\")\n",
    "plt.ylabel(\"Accuracy\")\n",
    "plt.tight_layout()\n",
    "plt.legend(loc = 'best')\n",
    "plt.show()"
   ]
  }
 ],
 "metadata": {
  "kernelspec": {
   "display_name": "Python 3 (ipykernel)",
   "language": "python",
   "name": "python3"
  },
  "language_info": {
   "codemirror_mode": {
    "name": "ipython",
    "version": 3
   },
   "file_extension": ".py",
   "mimetype": "text/x-python",
   "name": "python",
   "nbconvert_exporter": "python",
   "pygments_lexer": "ipython3",
   "version": "3.10.6"
  }
 },
 "nbformat": 4,
 "nbformat_minor": 5
}
